{
 "cells": [
  {
   "cell_type": "code",
   "execution_count": 1,
   "metadata": {},
   "outputs": [
    {
     "name": "stdout",
     "output_type": "stream",
     "text": [
      "Populating the interactive namespace from numpy and matplotlib\n"
     ]
    }
   ],
   "source": [
    "%pylab inline"
   ]
  },
  {
   "cell_type": "code",
   "execution_count": 2,
   "metadata": {},
   "outputs": [
    {
     "name": "stdout",
     "output_type": "stream",
     "text": [
      "Getting first image\n",
      "image 0 OK!!!\n",
      "image 1 OK!!!\n",
      "image 2 OK!!!\n",
      "image 3 OK!!!\n",
      "image 4 OK!!!\n",
      "image 5 OK!!!\n",
      "image 6 OK!!!\n",
      "image 7 OK!!!\n",
      "image 8 OK!!!\n",
      "image 9 OK!!!\n",
      "image 10 OK!!!\n",
      "image 11 OK!!!\n",
      "image 12 OK!!!\n",
      "image 13 OK!!!\n",
      "image 14 OK!!!\n",
      "image 15 OK!!!\n",
      "image 16 OK!!!\n",
      "image 17 OK!!!\n",
      "image 18 OK!!!\n",
      "image 19 OK!!!\n",
      "image 20 OK!!!\n"
     ]
    }
   ],
   "source": [
    "import sim as vrep\n",
    "import time\n",
    "import cv2\n",
    "import numpy as np\n",
    "\n",
    "vrep.simxFinish(-1)\n",
    "\n",
    "clientID = vrep.simxStart('127.0.0.1', 19999, True, True, 5000, 5)\n",
    "errcode,Handle=vrep.simxGetObjectHandle(clientID,'Pioneer_p3dx',vrep.simx_opmode_oneshot_wait)\n",
    "\n",
    "if clientID!=-1:\n",
    "    # Handler for the camera\n",
    "    res, v1 = vrep.simxGetObjectHandle(clientID, 'Vision_sensor', vrep.simx_opmode_oneshot_wait)\n",
    "    print ('Getting first image')\n",
    "    err, resolution, image = vrep.simxGetVisionSensorImage(clientID, v1, 0, vrep.simx_opmode_streaming)\n",
    "    \n",
    "    \n",
    "    # Take p pictures\n",
    "    p = 20\n",
    "    i = 0\n",
    "    \n",
    "    resP, VP = vrep.simxGetObjectHandle(clientID, 'Plane', vrep.simx_opmode_oneshot_wait)\n",
    "    pics=numpy.empty(p+1,dtype=numpy.ndarray)\n",
    "    orientation=numpy.empty(p+1,dtype=list)\n",
    "    \n",
    "    while i <= p:     \n",
    "        err, resolution, image = vrep.simxGetVisionSensorImage(clientID, v1, 0, vrep.simx_opmode_buffer)\n",
    "        if err == vrep.simx_return_ok:\n",
    "            print (\"image %d OK!!!\"%i)\n",
    "            img = np.array(image,dtype=np.uint8)\n",
    "            img.resize([resolution[1],resolution[0],3])\n",
    "            \n",
    "            #storing image in an array\n",
    "            pics[i]=img\n",
    "            \n",
    "            #getting orientaion\n",
    "            returnCodeOrientation,eulerAngles=vrep.simxGetObjectOrientation(clientID, Handle,-1,vrep.simx_opmode_streaming)\n",
    "            \n",
    "            #saving the orientation in an array\n",
    "            orientation[i]=eulerAngles[2]\n",
    "            \n",
    "            \n",
    "            # Show the images using Opencv (uncomment if you want to try it)\n",
    "#            cv2.imshow('image',img)\n",
    "#            if cv2.waitKey(1) & 0xFF == ord('q'):\n",
    "#                break\n",
    "            i+=1\n",
    "        elif err == vrep.simx_return_novalue_flag:\n",
    "            print (\"no image yet\")\n",
    "            pass\n",
    "        else:\n",
    "          print (err)\n",
    "        time.sleep(1)\n",
    "else:\n",
    "  print (\"Failed to connect to remote API Server\")\n",
    "  vrep.simxFinish(clientID)"
   ]
  },
  {
   "cell_type": "code",
   "execution_count": 6,
   "metadata": {},
   "outputs": [
    {
     "name": "stdout",
     "output_type": "stream",
     "text": [
      "-2.3806352615356445\n"
     ]
    }
   ],
   "source": [
    "print(orientation[7])"
   ]
  },
  {
   "cell_type": "code",
   "execution_count": 8,
   "metadata": {},
   "outputs": [
    {
     "data": {
      "image/png": "[encoded data removed]",
      "text/plain": [
       "<Figure size 432x288 with 1 Axes>"
      ]
     },
     "metadata": {
      "needs_background": "light"
     },
     "output_type": "display_data"
    }
   ],
   "source": [
    "#changing each pic in the array to gray scale\n",
    "count=0\n",
    "picsgray=numpy.empty(p+1,dtype=numpy.ndarray)\n",
    "for x in pics:\n",
    "    gray = cv2.cvtColor(x, cv2.COLOR_BGR2GRAY)\n",
    "    picsgray[count]=gray\n",
    "    imshow(gray, cmap='gray')\n",
    "    count+=1"
   ]
  },
  {
   "cell_type": "code",
   "execution_count": 9,
   "metadata": {},
   "outputs": [
    {
     "data": {
      "text/plain": [
       "<matplotlib.image.AxesImage at 0x1b326166e80>"
      ]
     },
     "execution_count": 9,
     "metadata": {},
     "output_type": "execute_result"
    },
    {
     "data": {
      "image/png": "[encoded data removed]",
      "text/plain": [
       "<Figure size 432x288 with 1 Axes>"
      ]
     },
     "metadata": {
      "needs_background": "light"
     },
     "output_type": "display_data"
    }
   ],
   "source": [
    "imshow(picsgray[10])"
   ]
  },
  {
   "cell_type": "code",
   "execution_count": 10,
   "metadata": {},
   "outputs": [
    {
     "name": "stdout",
     "output_type": "stream",
     "text": [
      "53.8\n"
     ]
    }
   ],
   "source": [
    "testray=numpy.empty(1,dtype=numpy.ndarray)\n",
    "gray = cv2.medianBlur(picsgray[0],5)\n",
    "circles = cv2.HoughCircles(gray, cv2.HOUGH_GRADIENT, 1, gray.shape[0] / 8, param1=30,param2=15,minRadius=10,maxRadius=0)\n",
    "rmax=0\n",
    "count=0\n",
    "for x in circles[0, :]:\n",
    "        r=x[2]\n",
    "        if r>rmax:\n",
    "            testray[count]=x\n",
    "            rmax=r\n",
    "\n",
    "for x in testray:\n",
    "    print(x[2])\n",
    "        "
   ]
  },
  {
   "cell_type": "code",
   "execution_count": 11,
   "metadata": {},
   "outputs": [
    {
     "data": {
      "image/png": "[encoded data removed]",
      "text/plain": [
       "<Figure size 432x288 with 1 Axes>"
      ]
     },
     "metadata": {
      "needs_background": "light"
     },
     "output_type": "display_data"
    }
   ],
   "source": [
    "circlesray=numpy.empty(p+1,dtype=numpy.ndarray)\n",
    "blurpics=numpy.empty(p+1,dtype=numpy.ndarray)\n",
    "count=0\n",
    "for x in picsgray:\n",
    "    gray = cv2.medianBlur(x,5)\n",
    "    blurpics[count]=gray\n",
    "    circles = cv2.HoughCircles(gray, cv2.HOUGH_GRADIENT, 1, gray.shape[0] / 8, param1=30,param2=15,minRadius=10,maxRadius=0)\n",
    "    rmax=0\n",
    "    for x in circles[0, :]:\n",
    "        r=x[2]\n",
    "        #only keeping the circle with the biggest radius\n",
    "        if r>rmax:\n",
    "            circlesray[count]=x\n",
    "            rmax=r\n",
    "    count=count+1\n",
    "    \n",
    "\n",
    "radiusray=numpy.empty(p+1,dtype=float)\n",
    "centerray=numpy.empty(p+1,dtype=numpy.ndarray)    \n",
    "count=0    \n",
    "if circles is not None:\n",
    "    for x in circlesray:\n",
    "        center = (x[0], x[1])  # In pixels\n",
    "        radius = x[2]  # In pixels\n",
    "        imshow(blurpics[count], cmap='gray')\n",
    "        radiusray[count]=radius\n",
    "        centerray[count]=center\n",
    "        count+=1\n",
    "        # plot circle\n",
    "        s = linspace(0,2*pi,100)\n",
    "        cx = cos(s)*radius + center [0]\n",
    "        cy = sin(s)*radius + center [1]\n",
    "        # Plot center\n",
    "        plot(center[0], center[1], '*')\n",
    "        plot(cx,cy)"
   ]
  },
  {
   "cell_type": "code",
   "execution_count": 12,
   "metadata": {},
   "outputs": [
    {
     "name": "stdout",
     "output_type": "stream",
     "text": [
      "[array([102.5, 151.5,  53.8], dtype=float32)\n",
      " array([ 22.5, 150.5,  62.2], dtype=float32)\n",
      " array([152.5, 141.5,  32.6], dtype=float32)\n",
      " array([ 19.5, 141.5,  31.2], dtype=float32)\n",
      " array([123.5, 137.5,  22.1], dtype=float32)\n",
      " array([239.5, 146.5,  43.3], dtype=float32)\n",
      " array([232.5,  89.5,  86.7], dtype=float32)\n",
      " array([107.5,  94.5,  82.5], dtype=float32)\n",
      " array([ 67.5, 137.5,  23.2], dtype=float32)\n",
      " array([201.5, 140.5,  34.2], dtype=float32)\n",
      " array([124.5, 141.5,  31.6], dtype=float32)\n",
      " array([187.5,  62.5,  54.7], dtype=float32)\n",
      " array([146.5, 139.5,  28.2], dtype=float32)\n",
      " array([224.5, 146.5,  53.2], dtype=float32)\n",
      " array([127.5, 148.5,  46.6], dtype=float32)\n",
      " array([ 28.5, 150.5,  50.3], dtype=float32)\n",
      " array([122.5, 138.5,  25.4], dtype=float32)\n",
      " array([195.5, 154.5,  57.7], dtype=float32)\n",
      " array([ 94.5, 152.5,  53.4], dtype=float32)\n",
      " array([209.5,  63.5,  54. ], dtype=float32)\n",
      " array([114.5,  66.5,  51.5], dtype=float32)]\n"
     ]
    }
   ],
   "source": [
    "print(circlesray)"
   ]
  },
  {
   "cell_type": "code",
   "execution_count": 13,
   "metadata": {},
   "outputs": [
    {
     "name": "stdout",
     "output_type": "stream",
     "text": [
      "53.79999923706055\n",
      "62.20000076293945\n",
      "32.599998474121094\n",
      "31.200000762939453\n",
      "22.100000381469727\n",
      "43.29999923706055\n",
      "86.69999694824219\n",
      "82.5\n",
      "23.200000762939453\n",
      "34.20000076293945\n",
      "31.600000381469727\n",
      "54.70000076293945\n",
      "28.200000762939453\n",
      "53.20000076293945\n",
      "46.599998474121094\n",
      "50.29999923706055\n",
      "25.399999618530273\n",
      "57.70000076293945\n",
      "53.400001525878906\n",
      "54.0\n",
      "51.5\n"
     ]
    }
   ],
   "source": [
    "for x in radiusray:\n",
    "    print(x)"
   ]
  },
  {
   "cell_type": "code",
   "execution_count": 14,
   "metadata": {},
   "outputs": [
    {
     "name": "stdout",
     "output_type": "stream",
     "text": [
      "-0.41745283018867924 3.235340187722997\n",
      "-1.3245967741935483 2.765694031440627\n",
      "0.48046875 5.358532185916214\n",
      "-2.721774193548387 5.531388062881254\n",
      "-0.2897727272727273 7.794228634059948\n",
      "1.875 3.9877448825422994\n",
      "0.876453488372093 1.9938724412711497\n",
      "-0.22408536585365854 2.091134511577059\n",
      "-2.1032608695652173 7.455349128231254\n",
      "1.5330882352941175 5.043324410274084\n",
      "-0.18145161290322578 5.531388062881254\n",
      "0.7708333333333334 3.1754264805429417\n",
      "0.3883928571428571 6.124036783904245\n",
      "1.3089622641509433 3.235340187722997\n",
      "-0.0733695652173913 3.727674564115627\n",
      "-1.5525 3.4294605989863767\n",
      "-0.285 6.858921197972753\n",
      "0.8355263157894737 3.008298771040682\n",
      "-0.5306603773584905 3.235340187722997\n",
      "1.0763888888888888 3.1754264805429417\n",
      "-0.25735294117647056 3.362216273516056\n"
     ]
    }
   ],
   "source": [
    "u0, v0 = 132, 132\n",
    "xzcord=numpy.empty(p+1,dtype=numpy.ndarray)  \n",
    "count=0\n",
    "for x in circlesray:\n",
    "    k = int(x[2]) / (1.5 / 2)  # Pixels per meters (radius in pixels / radius in  meters)\n",
    "    fov = 60  # degrees\n",
    "\n",
    "    # number of pixels in x-axis\n",
    "    npx = 264\n",
    "\n",
    "    # maximum value in the x-axis (in meters)\n",
    "    xmax = npx / (2.* k)\n",
    "\n",
    "    # Distance to the center of the sphere (z-axis coordinate)\n",
    "    zc = xmax / tan(pi/6)\n",
    "    \n",
    "\n",
    "    # Location of the sphere in the x-axis coordinate\n",
    "    xc = (x[0] - u0) / k\n",
    "    \n",
    "    print(xc, zc)\n",
    "    xzcord[count]=[xc, zc, k, x[2]]\n",
    "    count+=1"
   ]
  },
  {
   "cell_type": "code",
   "execution_count": 29,
   "metadata": {},
   "outputs": [],
   "source": [
    "#changing xc and zc to X and Y using orientation\n",
    "import math\n",
    "xycord=numpy.empty(p+1,dtype=numpy.ndarray)\n",
    "count=0\n",
    "for x in xzcord:\n",
    "    D=sqrt(x[0]**2+x[1]**2)\n",
    "    Y=D*sin(orientation[count])\n",
    "    X=D*cos(orientation[count])\n",
    "    \n",
    "    xycord[count]=[X,Y,x[2],x[3],orientation[count]]\n",
    "    count+=1"
   ]
  },
  {
   "cell_type": "code",
   "execution_count": 30,
   "metadata": {},
   "outputs": [
    {
     "name": "stdout",
     "output_type": "stream",
     "text": [
      "[list([-0.41745283018867924, 3.235340187722997, 70.66666666666667, 53.8])\n",
      " list([-1.3245967741935483, 2.765694031440627, 82.66666666666667, 62.2])\n",
      " list([0.48046875, 5.358532185916214, 42.666666666666664, 32.6])\n",
      " list([-2.721774193548387, 5.531388062881254, 41.333333333333336, 31.2])\n",
      " list([-0.2897727272727273, 7.794228634059948, 29.333333333333332, 22.1])\n",
      " list([1.875, 3.9877448825422994, 57.333333333333336, 43.3])\n",
      " list([0.876453488372093, 1.9938724412711497, 114.66666666666667, 86.7])\n",
      " list([-0.22408536585365854, 2.091134511577059, 109.33333333333333, 82.5])\n",
      " list([-2.1032608695652173, 7.455349128231254, 30.666666666666668, 23.2])\n",
      " list([1.5330882352941175, 5.043324410274084, 45.333333333333336, 34.2])\n",
      " list([-0.18145161290322578, 5.531388062881254, 41.333333333333336, 31.6])\n",
      " list([0.7708333333333334, 3.1754264805429417, 72.0, 54.7])\n",
      " list([0.3883928571428571, 6.124036783904245, 37.333333333333336, 28.2])\n",
      " list([1.3089622641509433, 3.235340187722997, 70.66666666666667, 53.2])\n",
      " list([-0.0733695652173913, 3.727674564115627, 61.333333333333336, 46.6])\n",
      " list([-1.5525, 3.4294605989863767, 66.66666666666667, 50.3])\n",
      " list([-0.285, 6.858921197972753, 33.333333333333336, 25.4])\n",
      " list([0.8355263157894737, 3.008298771040682, 76.0, 57.7])\n",
      " list([-0.5306603773584905, 3.235340187722997, 70.66666666666667, 53.4])\n",
      " list([1.0763888888888888, 3.1754264805429417, 72.0, 54.0])\n",
      " list([-0.25735294117647056, 3.362216273516056, 68.0, 51.5])]\n"
     ]
    }
   ],
   "source": [
    "print(xzcord)"
   ]
  },
  {
   "cell_type": "code",
   "execution_count": 31,
   "metadata": {},
   "outputs": [
    {
     "name": "stdout",
     "output_type": "stream",
     "text": [
      "[list([3.2621607863083657, 0.0, 70.66666666666667, 53.8, 0.0])\n",
      " list([2.7833812814550734, -1.2870154357255292, 82.66666666666667, 62.2, -0.43311184644699097])\n",
      " list([3.9801267974556636, -3.6198491796484955, 42.666666666666664, 32.6, -0.7380285263061523])\n",
      " list([3.116916642771611, -5.318753548047188, 41.333333333333336, 31.2, -1.0407167673110962])\n",
      " list([1.5393110643335899, -7.646207535810891, 29.333333333333332, 22.1, -1.372134804725647])\n",
      " list([-0.5939928524042427, -4.366337909453982, 57.333333333333336, 43.3, -1.7060054540634155])\n",
      " list([-0.8391915671741501, -2.0098396809009365, 114.66666666666667, 86.7, -1.9663326740264893])\n",
      " list([-1.523019631340857, -1.4503340991815488, 109.33333333333333, 82.5, -2.3806352615356445])\n",
      " list([-6.920107811651191, -3.4810982152744447, 30.666666666666668, 23.2, -2.6755151748657227])\n",
      " list([-5.209426689259405, -0.804583254670061, 45.333333333333336, 34.2, -2.988355875015259])\n",
      " list([-5.459755486605952, 0.905675778900273, 41.333333333333336, 31.6, 2.9772074222564697])\n",
      " list([-2.878533724160621, 1.546467251506187, 72.0, 54.7, 2.6485977172851562])\n",
      " list([-4.11406790932676, 4.55292442058284, 37.333333333333336, 28.2, 2.3056023120880127])\n",
      " list([-1.2924445845784895, 3.241973987412665, 70.66666666666667, 53.2, 1.9501467943191528])\n",
      " list([0.09177723124537196, 3.727266785310618, 61.333333333333336, 46.6, 1.5461781024932861])\n",
      " list([1.6190677897523411, 3.3985402369526927, 66.66666666666667, 50.3, 1.126205563545227])\n",
      " list([5.266898509997041, 4.402931419564803, 33.333333333333336, 25.4, 0.6962881088256836])\n",
      " list([2.9995619904972575, 0.8663680426849424, 76.0, 57.7, 0.2811792492866516])\n",
      " list([3.2450705587810544, -0.46748650774770756, 70.66666666666667, 53.4, -0.14307615160942078])\n",
      " list([2.8297795534459635, -1.7984143161007013, 72.0, 54.0, -0.5661367774009705])\n",
      " list([1.8691178564734914, -2.8066220345533375, 68.0, 51.5, -0.983278214931488])]\n"
     ]
    }
   ],
   "source": [
    "print(xycord)"
   ]
  },
  {
   "cell_type": "code",
   "execution_count": 24,
   "metadata": {},
   "outputs": [
    {
     "data": {
      "text/plain": [
       "[<matplotlib.lines.Line2D at 0x1b32604ee20>]"
      ]
     },
     "execution_count": 24,
     "metadata": {},
     "output_type": "execute_result"
    },
    {
     "data": {
      "image/png": "[encoded data removed]",
      "text/plain": [
       "<Figure size 432x288 with 1 Axes>"
      ]
     },
     "metadata": {
      "needs_background": "light"
     },
     "output_type": "display_data"
    }
   ],
   "source": [
    "# Tha map is 20x20 sq meters\n",
    "#Lets define a grid of nxn\n",
    "n = 20\n",
    "gmap = zeros(n*n) # the map is a grid of nxn\n",
    "\n",
    "# x and y coordinates for the grid cells. Lowest and leftest point in the cell.\n",
    "cell_w = 20/n\n",
    "grid_x, grid_y = np.mgrid[-10:10:cell_w,-10:10:cell_w]\n",
    "# Convert the matrix into a vector\n",
    "grid_x = grid_x.flatten()\n",
    "grid_y = grid_y.flatten()\n",
    "\n",
    "plot(grid_x, grid_y, '+')"
   ]
  },
  {
   "cell_type": "code",
   "execution_count": 25,
   "metadata": {},
   "outputs": [
    {
     "data": {
      "image/png": "[encoded data removed]",
      "text/plain": [
       "<Figure size 432x288 with 1 Axes>"
      ]
     },
     "metadata": {
      "needs_background": "light"
     },
     "output_type": "display_data"
    }
   ],
   "source": [
    "\n",
    "# Computes the four points of the square that composes a cell\n",
    "def points_cell(x, y, d):    \n",
    "    X = [x, x+d, x+d, x]\n",
    "    Y = [y, y, y+d, y+d]\n",
    "    return X, Y\n",
    "\n",
    "fig = plt.figure()\n",
    "ax = fig.add_subplot(111, aspect='equal')\n",
    "# plot each cell\n",
    "for x, y in zip(grid_x, grid_y):\n",
    "    X, Y = points_cell(x, y, cell_w)\n",
    "    cell = plt.Polygon([(xi, yi) for xi, yi in zip(X,Y)], color='0.9')\n",
    "    \n",
    "    ax.add_patch(cell)\n",
    "\n",
    "    plot(X,Y, 'k-')\n",
    "    plot(X,Y, 'b+')    \n",
    "    \n",
    "fig.canvas.draw()"
   ]
  },
  {
   "cell_type": "code",
   "execution_count": 34,
   "metadata": {},
   "outputs": [
    {
     "name": "stdout",
     "output_type": "stream",
     "text": [
      "[1.86366032 1.52100144 0.52501602 1.19809273]\n",
      "1.3862943611198908\n",
      "[1.19809273 0.52501602 0.48768664 1.18221091]\n",
      "1.3862943611198908\n",
      "[1.18221091 0.48768664 1.48325139 1.83298092]\n",
      "1.3862943611198908\n",
      "[1.52100144 1.77585501 1.05634154 0.52501602]\n",
      "1.3862943611198908\n",
      "[0.52501602 1.05634154 1.03829373 0.48768664]\n",
      "1.3862943611198908\n",
      "[0.48768664 1.03829373 1.74363136 1.48325139]\n",
      "1.3862943611198908\n",
      "[1.78678532 1.05456757 0.54841699 1.54313001]\n",
      "-5.359726454355847\n",
      "[1.54313001 0.54841699 1.22041371 1.88941755]\n",
      "-8.732736862093716\n",
      "[1.43318783 1.21362298 0.2864389  0.81436716]\n",
      "1.3862943611198908\n",
      "[0.81436716 0.2864389  0.83139266 1.12798953]\n",
      "1.3862943611198908\n",
      "[1.05456757 1.01568879 0.46933162 0.54841699]\n",
      "-5.359726454355847\n",
      "[0.54841699 0.46933162 1.18697962 1.22041371]\n",
      "-8.732736862093716\n",
      "[1.21362298 1.70050996 1.22511249 0.2864389 ]\n",
      "1.3862943611198908\n",
      "[0.2864389  1.22511249 1.45260701 0.83139266]\n",
      "1.3862943611198908\n",
      "[1.01568879 1.7178867  1.46279976 0.46933162]\n",
      "-5.359726454355847\n",
      "[0.46933162 1.46279976 1.82439896 1.18697962]\n",
      "-5.359726454355847\n",
      "[1.78786183 1.55710813 0.56456789 1.04431848]\n",
      "-5.359726454355847\n",
      "[1.04431848 0.56456789 0.46139794 0.99234684]\n",
      "-8.732736862093716\n",
      "[0.99234684 0.46139794 1.4515644  1.69673316]\n",
      "-8.732736862093716\n",
      "[1.91030039 1.55123016 0.559804   1.24752277]\n",
      "-5.359726454355847\n",
      "[1.24752277 0.559804   0.46951678 1.20970185]\n",
      "-5.359726454355847\n",
      "[1.20970185 0.46951678 1.45859916 1.83587692]\n",
      "-5.359726454355847\n",
      "[1.55710813 1.91120945 1.24373338 0.56456789]\n",
      "-8.732736862093716\n",
      "[0.56456789 1.24373338 1.20042654 0.46139794]\n",
      "-8.732736862093716\n",
      "[0.46139794 1.20042654 1.82624616 1.4515644 ]\n",
      "-5.359726454355847\n",
      "[2.14077916 1.62141132 0.72776567 1.57594531]\n",
      "1.3862943611198908\n",
      "[1.57594531 0.72776567 0.655981   1.54410874]\n",
      "1.3862943611198908\n",
      "[1.54410874 0.655981   1.52675449 2.07000966]\n",
      "1.3862943611198908\n",
      "[1.55123016 1.77859002 1.03462455 0.559804  ]\n",
      "-1.986716046617978\n",
      "[0.559804   1.03462455 0.9886928  0.46951678]\n",
      "-5.359726454355847\n",
      "[0.46951678 0.9886928  1.69840483 1.45859916]\n",
      "-5.359726454355847\n",
      "[2.11145563 1.4293824  0.74778745 1.724615  ]\n",
      "-4.402003521807385\n",
      "[1.724615   0.74778745 1.03693688 1.86824756]\n",
      "-5.359726454355847\n",
      "[2.15539043 1.68335784 0.75257521 1.54220094]\n",
      "1.3862943611198908\n",
      "[1.54220094 0.75257521 0.54685032 1.45294858]\n",
      "1.3862943611198908\n",
      "[1.45294858 0.54685032 1.42538454 1.96054466]\n",
      "1.3862943611198908\n",
      "[1.52574365 1.0031335  0.16110919 1.16085014]\n",
      "1.3862943611198908\n",
      "[1.62141132 1.63554698 0.7587372  0.72776567]\n",
      "2.3440172936683528\n",
      "[1.16085014 0.16110919 1.02256322 1.53858779]\n",
      "1.3862943611198908\n",
      "[0.72776567 0.7587372  0.69018138 0.655981  ]\n",
      "2.3440172936683528\n",
      "[0.655981   0.69018138 1.54175826 1.52675449]\n",
      "1.3862943611198908\n",
      "[1.4293824  1.27594013 0.37957245 0.74778745]\n",
      "-5.359726454355847\n",
      "[0.74778745 0.37957245 0.81248217 1.03693688]\n",
      "-5.359726454355847\n",
      "[1.68335784 1.73829783 0.86853621 0.75257521]\n",
      "1.3862943611198908\n",
      "[0.75257521 0.86853621 0.69787604 0.54685032]\n",
      "1.3862943611198908\n",
      "[0.54685032 0.69787604 1.48986805 1.42538454]\n",
      "1.3862943611198908\n",
      "[1.0031335  1.29794451 0.83924925 0.16110919]\n",
      "1.3862943611198908\n",
      "[0.16110919 0.83924925 1.31301891 1.02256322]\n",
      "1.3862943611198908\n",
      "[0.7587372  1.61917306 1.58820326 0.69018138]\n",
      "2.3440172936683528\n",
      "[0.69018138 1.58820326 2.1031067  1.54175826]\n",
      "1.3862943611198908\n",
      "[1.27594013 1.79245987 1.31490091 0.37957245]\n",
      "-5.359726454355847\n",
      "[2.04338642 1.72970333 0.73303481 1.31182869]\n",
      "-4.402003521807385\n",
      "[0.37957245 1.31490091 1.49833789 0.81248217]\n",
      "-5.359726454355847\n",
      "[1.31182869 0.73303481 0.28776113 1.12532703]\n",
      "-4.402003521807385\n",
      "[1.12532703 0.28776113 1.27603797 1.67685043]\n",
      "-5.359726454355847\n",
      "[2.04993478 1.45726129 0.64500041 1.57944536]\n",
      "1.3862943611198908\n",
      "[1.57944536 0.64500041 0.84168914 1.66944983]\n",
      "1.3862943611198908\n",
      "[0.86853621 1.71532529 1.63554782 0.69787604]\n",
      "1.3862943611198908\n",
      "[0.69787604 1.63554782 2.09945052 1.48986805]\n",
      "1.3862943611198908\n",
      "[1.72970333 1.95149152 1.16352292 0.73303481]\n",
      "-1.986716046617978\n",
      "[2.13946145 1.52943118 0.73626031 1.66739762]\n",
      "-1.0289931140695159\n",
      "[0.73303481 1.16352292 0.94828899 0.28776113]\n",
      "-1.986716046617978\n",
      "[1.66739762 0.73626031 0.86313312 1.72717525]\n",
      "-1.0289931140695159\n",
      "[0.28776113 0.94828899 1.56355954 1.27603797]\n",
      "-1.986716046617978\n",
      "[1.45726129 1.43003088 0.58086436 0.64500041]\n",
      "1.3862943611198908\n",
      "[0.64500041 0.58086436 0.79361103 0.84168914]\n",
      "1.3862943611198908\n",
      "[1.47631867 1.20053367 0.23350626 0.89037121]\n",
      "-5.359726454355847\n",
      "[0.89037121 0.23350626 0.81717149 1.1857508 ]\n",
      "-5.359726454355847\n",
      "[1.52943118 1.44949099 0.55131086 0.73626031]\n",
      "1.3862943611198908\n",
      "[0.73626031 0.55131086 0.71194325 0.86313312]\n",
      "1.3862943611198908\n",
      "[0.86313312 0.71194325 1.64614177 1.71695029]\n",
      "-1.986716046617978\n",
      "[1.43003088 1.9915738  1.50292424 0.58086436]\n",
      "1.3862943611198908\n",
      "[0.58086436 1.50292424 1.59724649 0.79361103]\n",
      "1.3862943611198908\n",
      "[2.01843811 1.68530684 0.69120636 1.30828113]\n",
      "1.3862943611198908\n",
      "[1.30828113 0.69120636 0.33951926 1.16151049]\n",
      "1.3862943611198908\n",
      "[1.16151049 0.33951926 1.32392614 1.7281822 ]\n",
      "1.3862943611198908\n",
      "[1.20053367 1.64409409 1.14729659 0.23350626]\n",
      "-5.359726454355847\n",
      "[1.88361417 1.72662671 0.74516485 1.0592607 ]\n",
      "1.3862943611198908\n",
      "[1.46025418 1.21358278 0.26384046 0.85391504]\n",
      "-4.402003521807385\n",
      "[0.23350626 1.14729659 1.3890765  0.81717149]\n",
      "-3.4442805892589234\n",
      "[1.0592607  0.74516485 0.35958522 0.83430456]\n",
      "1.3862943611198908\n",
      "[1.97453749 1.55198492 0.58619979 1.35416813]\n",
      "-4.402003521807385\n",
      "[0.85391504 0.26384046 0.81635802 1.15152053]\n",
      "-3.4442805892589234\n",
      "[1.61029496 1.03379315 0.26216079 1.26216079]\n",
      "1.3862943611198908\n",
      "[0.83430456 0.35958522 1.30511777 1.50668343]\n",
      "2.3440172936683528\n",
      "[1.35416813 0.58619979 0.52782877 1.32994148]\n",
      "-3.4442805892589234\n",
      "[1.26216079 0.26216079 1.03379315 1.61029496]\n",
      "1.3862943611198908\n",
      "[1.32276897 0.86636815 0.13363268 1.00845509]\n",
      "-4.402003521807385\n",
      "[1.32994148 0.52782877 1.4878092  1.92450444]\n",
      "-3.4442805892589234\n",
      "[1.00845509 0.13363268 1.13363204 1.51137209]\n",
      "-1.986716046617978\n",
      "[1.44949099 1.96542325 1.43729193 0.55131086]\n",
      "1.3862943611198908\n",
      "[0.55131086 1.43729193 1.5062296  0.71194325]\n",
      "1.3862943611198908\n",
      "[0.71194325 1.5062296  2.11462695 1.64614177]\n",
      "1.3862943611198908\n",
      "[1.68530684 1.8990592  1.11531742 0.69120636]\n",
      "1.3862943611198908\n",
      "[0.69120636 1.11531742 0.93885038 0.33951926]\n",
      "1.3862943611198908\n",
      "[1.69276839 1.38029389 0.38066992 1.05126742]\n",
      "1.3862943611198908\n",
      "[0.33951926 0.93885038 1.58711913 1.32392614]\n",
      "2.3440172936683528\n",
      "[1.05126742 0.38066992 0.62016768 1.15968166]\n",
      "1.3862943611198908\n",
      "[1.72662671 2.10106574 1.41014471 0.74516485]\n",
      "1.3862943611198908\n",
      "[1.15968166 0.62016768 1.61997108 1.8932934 ]\n",
      "2.3440172936683528\n",
      "[1.21358278 1.67726684 1.18745639 0.26384046]\n",
      "-3.4442805892589234\n",
      "[0.74516485 1.41014471 1.25001559 0.35958522]\n",
      "1.3862943611198908\n",
      "[1.55198492 1.70836649 0.92384473 0.58619979]\n",
      "-4.402003521807385\n",
      "[0.26384046 1.18745639 1.41664439 0.81635802]\n",
      "-3.4442805892589234\n",
      "[1.03379315 1.24274161 0.73783921 0.26216079]\n",
      "1.3862943611198908\n",
      "[0.35958522 1.25001559 1.77103637 1.30511777]\n",
      "2.3440172936683528\n",
      "[0.58619979 0.92384473 0.88795388 0.52782877]\n",
      "-3.4442805892589234\n",
      "[0.26216079 0.73783921 1.24274161 1.03379315]\n",
      "1.3862943611198908\n",
      "[0.86636815 1.32343107 1.00932339 0.13363268]\n",
      "-4.402003521807385\n",
      "[0.52782877 0.88795388 1.65028334 1.4878092 ]\n",
      "-3.4442805892589234\n",
      "[0.13363268 1.00932339 1.51195159 1.13363204]\n",
      "-1.986716046617978\n",
      "[1.38029389 1.71608789 1.08841903 0.38066992]\n",
      "1.3862943611198908\n",
      "[0.38066992 1.08841903 1.19346318 0.62016768]\n",
      "1.3862943611198908\n",
      "[0.62016768 1.19346318 1.91417155 1.61997108]\n",
      "1.3862943611198908\n",
      "[1.24274161 2.005015   1.73783921 0.73783921]\n",
      "1.3862943611198908\n",
      "[0.73783921 1.73783921 2.005015   1.24274161]\n",
      "1.3862943611198908\n",
      "[1.89030379 1.42809362 0.48330999 1.32943054]\n",
      "-1.986716046617978\n",
      "[1.32943054 0.48330999 0.65400742 1.40054372]\n",
      "-1.986716046617978\n",
      "[1.40054372 0.65400742 1.61921674 2.03854357]\n",
      "1.3862943611198908\n",
      "[1.42809362 1.58292589 0.83653543 0.48330999]\n",
      "-1.986716046617978\n",
      "[0.48330999 0.83653543 0.94547802 0.65400742]\n",
      "-1.986716046617978\n",
      "[0.65400742 0.94547802 1.75728935 1.61921674]\n",
      "-1.986716046617978\n"
     ]
    }
   ],
   "source": [
    "l0 = (0.3/(1-0.3))  # Initial belief\n",
    "gmap = l0 * ones(n*n) # Initial belief\n",
    "count=0\n",
    "# For each cell, check if the circle is in it.\n",
    "for i in range(n*n):\n",
    "    count=0\n",
    "    x, y = grid_x[i], grid_y[i]\n",
    "    for values in xycord:\n",
    "        # Corners of the cell\n",
    "        X, Y = points_cell(x, y, cell_w)\n",
    "        # check based on the ecuclidean distance\n",
    "        dist = sqrt((values[0] - X)**2 + (values[1] - Y)**2)\n",
    "    \n",
    "        # Check if At least one of the borders is within the sphere\n",
    "        if((dist < values[3]/values[2]).any()):\n",
    "            print(dist)\n",
    "            po = 0.8  # P(mi/zt) probability of having an obstacle \n",
    "            li = log(po / (1-po)) + gmap[i] - l0\n",
    "            gmap[i] = li  # P(mi/zt) \n",
    "            print(li)\n",
    "        else:\n",
    "            po = 0.05  # P(mi/zt) probability of having an obstacle given a non-detected obstacle\n",
    "            \n",
    "            # Cells within the fov. Check if the four points are withing the FOV\n",
    "            thetas = np.arctan2(Y,X) - pi/2\n",
    "            if np.logical_and(-pi/6-values[4] <thetas, thetas < pi/6-values[4]).all():\n",
    "                li = log(po / (1-po)) + gmap[i] - l0\n",
    "                gmap[i] = li\n",
    "            pass\n",
    "\n",
    "# gmap"
   ]
  },
  {
   "cell_type": "code",
   "execution_count": 35,
   "metadata": {},
   "outputs": [
    {
     "name": "stdout",
     "output_type": "stream",
     "text": [
      "[  0.42857143   0.42857143   0.42857143   0.42857143   0.42857143\n",
      "   0.42857143   0.42857143   0.42857143   0.42857143   0.42857143\n",
      "  -9.69045979 -13.0634702  -13.0634702   -9.69045979 -13.0634702\n",
      " -13.0634702  -16.43648061 -13.0634702  -16.43648061 -16.43648061\n",
      "   0.42857143   0.42857143   0.42857143   0.42857143   0.42857143\n",
      "   0.42857143   0.42857143   0.42857143   0.42857143   0.42857143\n",
      "  -9.69045979 -13.0634702  -13.0634702  -13.0634702  -13.0634702\n",
      " -16.43648061 -16.43648061 -16.43648061 -16.43648061 -16.43648061\n",
      "   0.42857143   0.42857143   0.42857143   0.42857143   0.42857143\n",
      "   1.38629436   1.38629436   1.38629436   0.42857143   0.42857143\n",
      "  -6.31744939 -13.0634702   -9.69045979 -13.0634702  -13.0634702\n",
      " -16.43648061 -16.43648061 -16.43648061 -16.43648061 -16.43648061\n",
      "   0.42857143   0.42857143   0.42857143   0.42857143   0.42857143\n",
      "   1.38629436   1.38629436   1.38629436   0.42857143   0.42857143\n",
      "  -5.35972645 -12.10574727  -9.69045979 -13.0634702  -16.43648061\n",
      " -16.43648061 -16.43648061 -16.43648061 -16.43648061 -19.80949102\n",
      "   0.42857143   0.42857143   0.42857143   0.42857143   0.42857143\n",
      "   0.42857143   0.42857143   0.42857143   1.38629436   1.38629436\n",
      "  -5.35972645 -12.10574727 -13.0634702  -13.0634702  -13.0634702\n",
      " -16.43648061 -16.43648061 -16.43648061 -16.43648061 -16.43648061\n",
      "   0.42857143   0.42857143   0.42857143   0.42857143   0.42857143\n",
      "   0.42857143   0.42857143   0.42857143   1.38629436   1.38629436\n",
      "  -5.35972645  -8.73273686 -13.0634702  -12.10574727 -15.47875768\n",
      " -15.47875768 -16.43648061 -16.43648061 -13.0634702  -16.43648061\n",
      "   0.42857143   0.42857143   0.42857143   0.42857143   0.42857143\n",
      "   0.42857143   0.42857143   0.42857143   0.42857143   0.42857143\n",
      "  -5.35972645  -8.73273686  -8.73273686 -15.47875768 -15.47875768\n",
      " -12.10574727 -13.0634702  -16.43648061 -16.43648061 -16.43648061\n",
      "  -2.94443898  -2.94443898   0.42857143   0.42857143   0.42857143\n",
      "   0.42857143   0.42857143   1.38629436   1.38629436   1.38629436\n",
      "  -1.98671605  -8.73273686 -11.14802434 -12.10574727 -13.0634702\n",
      " -13.0634702  -16.43648061 -16.43648061 -16.43648061 -13.0634702\n",
      "  -2.94443898  -2.94443898  -2.94443898  -2.94443898   1.38629436\n",
      "   1.38629436   1.38629436   2.34401729   2.34401729   1.38629436\n",
      "   0.42857143  -6.31744939  -8.73273686 -12.10574727 -13.0634702\n",
      " -13.0634702  -13.0634702  -13.0634702  -13.0634702  -16.43648061\n",
      "  -2.94443898  -2.94443898  -2.94443898  -2.94443898  -1.98671605\n",
      "  -1.98671605  -1.98671605   1.38629436   2.34401729   1.38629436\n",
      "   0.42857143  -2.94443898  -7.77501393  -7.77501393  -8.73273686\n",
      " -13.0634702  -13.0634702  -13.0634702  -13.0634702  -13.0634702\n",
      "  -6.31744939  -5.35972645  -5.35972645  -6.31744939  -6.31744939\n",
      "  -5.35972645  -5.35972645  -6.31744939  -2.94443898   0.42857143\n",
      "   0.42857143  -2.94443898  -4.40200352  -7.77501393  -8.73273686\n",
      "  -9.69045979  -9.69045979  -9.69045979  -9.69045979  -9.69045979\n",
      "  -6.31744939  -5.35972645  -5.35972645  -6.31744939  -6.31744939\n",
      "  -6.31744939  -5.35972645  -5.35972645  -2.94443898  -2.94443898\n",
      "  -2.94443898  -2.94443898  -5.35972645  -5.35972645  -8.73273686\n",
      "  -9.69045979  -9.69045979  -9.69045979  -9.69045979  -9.69045979\n",
      "  -6.31744939  -5.35972645  -5.35972645  -5.35972645  -8.73273686\n",
      "  -8.73273686  -5.35972645  -3.44428059  -3.44428059  -3.44428059\n",
      "  -3.44428059  -1.98671605  -1.98671605  -5.35972645  -5.35972645\n",
      "  -6.31744939  -9.69045979  -9.69045979 -13.0634702  -13.0634702\n",
      "  -6.31744939  -9.69045979  -9.69045979  -8.73273686  -8.73273686\n",
      "  -4.40200352  -5.35972645  -3.44428059  -3.44428059  -3.44428059\n",
      "  -3.44428059  -1.98671605  -6.31744939  -6.31744939  -6.31744939\n",
      "  -6.31744939  -6.31744939  -9.69045979  -9.69045979  -9.69045979\n",
      "  -9.69045979  -9.69045979  -9.69045979  -6.31744939  -6.31744939\n",
      "  -8.73273686  -5.35972645  -5.35972645  -6.31744939  -5.35972645\n",
      "  -5.35972645  -6.31744939  -6.31744939  -1.98671605  -1.98671605\n",
      "  -1.98671605  -6.31744939  -6.31744939  -6.31744939  -9.69045979\n",
      "  -9.69045979  -9.69045979  -6.31744939  -6.31744939  -9.69045979\n",
      "  -9.69045979  -6.31744939  -6.31744939  -6.31744939  -6.31744939\n",
      "  -6.31744939  -6.31744939  -6.31744939  -1.98671605  -1.98671605\n",
      "  -1.98671605  -9.69045979  -6.31744939  -6.31744939  -6.31744939\n",
      "  -9.69045979  -6.31744939  -6.31744939  -9.69045979  -9.69045979\n",
      "  -6.31744939  -6.31744939  -9.69045979  -6.31744939  -6.31744939\n",
      "  -6.31744939  -6.31744939  -6.31744939  -6.31744939  -6.31744939\n",
      "  -6.31744939  -6.31744939  -9.69045979  -6.31744939  -6.31744939\n",
      "  -6.31744939  -6.31744939  -9.69045979  -9.69045979  -9.69045979\n",
      "  -6.31744939  -6.31744939  -9.69045979  -6.31744939  -6.31744939\n",
      "  -9.69045979  -6.31744939  -6.31744939  -9.69045979  -6.31744939\n",
      "  -6.31744939  -6.31744939  -6.31744939  -9.69045979  -9.69045979\n",
      "  -9.69045979  -9.69045979  -9.69045979  -9.69045979  -6.31744939\n",
      "  -6.31744939  -9.69045979  -9.69045979  -6.31744939  -6.31744939\n",
      "  -9.69045979  -6.31744939  -6.31744939  -6.31744939  -6.31744939\n",
      "  -6.31744939  -6.31744939  -6.31744939  -6.31744939  -9.69045979\n",
      "  -9.69045979  -9.69045979  -9.69045979  -6.31744939  -6.31744939\n",
      "  -6.31744939  -9.69045979  -6.31744939  -6.31744939  -6.31744939\n",
      "  -9.69045979  -6.31744939  -6.31744939  -6.31744939  -9.69045979\n",
      "  -6.31744939  -6.31744939  -6.31744939  -6.31744939  -6.31744939]\n"
     ]
    }
   ],
   "source": [
    "print(gmap)"
   ]
  },
  {
   "cell_type": "code",
   "execution_count": 36,
   "metadata": {},
   "outputs": [
    {
     "data": {
      "image/png": "[encoded data removed]",
      "text/plain": [
       "<Figure size 432x288 with 1 Axes>"
      ]
     },
     "metadata": {
      "needs_background": "light"
     },
     "output_type": "display_data"
    }
   ],
   "source": [
    "fig = plt.figure()\n",
    "ax = fig.add_subplot(111, aspect='equal')\n",
    "\n",
    "# normalize gmap\n",
    "gmap = gmap - min(gmap)\n",
    "gmap = gmap / max(gmap)\n",
    "\n",
    "# plot each cell\n",
    "for c, x, y in zip(gmap, grid_x, grid_y):\n",
    "    X, Y = points_cell(x, y, cell_w)\n",
    "    cell = plt.Polygon([(xi, yi) for xi, yi in zip(X,Y)], color='%f'%(1-c))\n",
    "    \n",
    "    ax.add_patch(cell)\n",
    "\n",
    "    plot(X,Y, 'k-')\n",
    "    plot(X,Y, 'b+')    \n",
    "    plot(0,0, 'go')\n",
    "    \n",
    "fig.canvas.draw()"
   ]
  },
  {
   "cell_type": "code",
   "execution_count": 32,
   "metadata": {},
   "outputs": [
    {
     "name": "stdout",
     "output_type": "stream",
     "text": [
      "<class 'float'>\n"
     ]
    }
   ],
   "source": []
  },
  {
   "cell_type": "code",
   "execution_count": null,
   "metadata": {},
   "outputs": [],
   "source": []
  }
 ],
 "metadata": {
  "kernelspec": {
   "display_name": "Python 3",
   "language": "python",
   "name": "python3"
  },
  "language_info": {
   "codemirror_mode": {
    "name": "ipython",
    "version": 3
   },
   "file_extension": ".py",
   "mimetype": "text/x-python",
   "name": "python",
   "nbconvert_exporter": "python",
   "pygments_lexer": "ipython3",
   "version": "3.8.3"
  }
 },
 "nbformat": 4,
 "nbformat_minor": 4
}
